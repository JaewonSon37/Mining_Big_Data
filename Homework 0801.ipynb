{
 "cells": [
  {
   "cell_type": "markdown",
   "id": "495080d4-75dd-464a-b901-d2fadceb2964",
   "metadata": {},
   "source": [
    "## Homework 6\n",
    "---"
   ]
  },
  {
   "cell_type": "markdown",
   "id": "abedbdce-aa27-43d0-b66a-761f1c6762f1",
   "metadata": {},
   "source": [
    "- Calculate the Movie Similarities on the ml-10M dataset to find and show the Top 10 most similar movies to Toy Story.\n",
    "- The data must be read in from Amazon S3.\n",
    "- Use PySpark DataFrames or RDDs\n",
    "- Use cosine similarity"
   ]
  },
  {
   "cell_type": "code",
   "execution_count": 1,
   "id": "3e6f34ed-16fe-4587-bbc6-704b4adb0e25",
   "metadata": {
    "execution": {
     "iopub.execute_input": "2025-03-01T03:30:17.396751Z",
     "iopub.status.busy": "2025-03-01T03:30:17.396307Z",
     "iopub.status.idle": "2025-03-01T03:31:43.714382Z",
     "shell.execute_reply": "2025-03-01T03:31:43.713446Z",
     "shell.execute_reply.started": "2025-03-01T03:30:17.396709Z"
    },
    "tags": []
   },
   "outputs": [
    {
     "data": {
      "application/vnd.jupyter.widget-view+json": {
       "model_id": "914973e585ed441480f55ac1ab6f9c4f",
       "version_major": 2,
       "version_minor": 0
      },
      "text/plain": [
       "VBox()"
      ]
     },
     "metadata": {},
     "output_type": "display_data"
    },
    {
     "name": "stdout",
     "output_type": "stream",
     "text": [
      "Starting Spark application\n"
     ]
    },
    {
     "data": {
      "text/html": [
       "<table>\n<tbody><tr><th>ID</th><th>YARN Application ID</th><th>Kind</th><th>State</th><th>Spark UI</th><th>Driver log</th><th>User</th><th>Current session?</th></tr><tr><td>1</td><td>application_1740798541661_0002</td><td>pyspark</td><td>idle</td><td><a target=\"_blank\" href=\"http://ip-172-31-73-74.ec2.internal:20888/proxy/application_1740798541661_0002/\" class=\"emr-proxy-link j-3IDY3ZFI3E1D9 application_1740798541661_0002\" emr-resource=\"j-3IDY3ZFI3E1D9\n\" application-id=\"application_1740798541661_0002\">Link</a></td><td><a target=\"_blank\" href=\"http://ip-172-31-79-50.ec2.internal:8042/node/containerlogs/container_1740798541661_0002_01_000001/livy\">Link</a></td><td>None</td><td>✔</td></tr></tbody></table>"
      ],
      "text/plain": [
       "<IPython.core.display.HTML object>"
      ]
     },
     "metadata": {},
     "output_type": "display_data"
    },
    {
     "data": {
      "application/vnd.jupyter.widget-view+json": {
       "model_id": "",
       "version_major": 2,
       "version_minor": 0
      },
      "text/plain": [
       "FloatProgress(value=0.0, bar_style='info', description='Progress:', layout=Layout(height='25px', width='50%'),…"
      ]
     },
     "metadata": {},
     "output_type": "display_data"
    },
    {
     "name": "stdout",
     "output_type": "stream",
     "text": [
      "SparkSession available as 'spark'.\n"
     ]
    },
    {
     "data": {
      "application/vnd.jupyter.widget-view+json": {
       "model_id": "",
       "version_major": 2,
       "version_minor": 0
      },
      "text/plain": [
       "FloatProgress(value=0.0, bar_style='info', description='Progress:', layout=Layout(height='25px', width='50%'),…"
      ]
     },
     "metadata": {},
     "output_type": "display_data"
    },
    {
     "name": "stdout",
     "output_type": "stream",
     "text": [
      "Collecting pandas\n",
      "  Downloading pandas-2.2.3-cp39-cp39-manylinux_2_17_x86_64.manylinux2014_x86_64.whl (13.1 MB)\n",
      "Collecting numpy>=1.22.4\n",
      "  Downloading numpy-2.0.2-cp39-cp39-manylinux_2_17_x86_64.manylinux2014_x86_64.whl (19.5 MB)\n",
      "Requirement already satisfied: pytz>=2020.1 in /usr/local/lib/python3.9/site-packages (from pandas) (2024.2)\n",
      "Collecting tzdata>=2022.7\n",
      "  Downloading tzdata-2025.1-py2.py3-none-any.whl (346 kB)\n",
      "Collecting python-dateutil>=2.8.2\n",
      "  Downloading python_dateutil-2.9.0.post0-py2.py3-none-any.whl (229 kB)\n",
      "Requirement already satisfied: six>=1.5 in /usr/local/lib/python3.9/site-packages (from python-dateutil>=2.8.2->pandas) (1.13.0)\n",
      "Installing collected packages: tzdata, python-dateutil, numpy, pandas\n",
      "  Attempting uninstall: python-dateutil\n",
      "    Found existing installation: python-dateutil 2.8.1\n",
      "    Not uninstalling python-dateutil at /usr/lib/python3.9/site-packages, outside environment /mnt/yarn/usercache/livy/appcache/application_1740798541661_0002/container_1740798541661_0002_01_000001/tmp/spark-88eb24a8-0cae-482a-a7ad-9387b93f108d\n",
      "    Can't uninstall 'python-dateutil'. No files were found to uninstall.\n",
      "Successfully installed numpy-2.0.2 pandas-2.2.3 python-dateutil-2.9.0.post0 tzdata-2025.1\n",
      "\n",
      "Requirement already satisfied: numpy in ./tmp/spark-88eb24a8-0cae-482a-a7ad-9387b93f108d/lib64/python3.9/site-packages (2.0.2)\n",
      "\n",
      "WARNING: The directory '/home/.cache/pip' or its parent directory is not owned or is not writable by the current user. The cache has been disabled. Check the permissions and owner of that directory. If executing pip with sudo, you should use sudo's -H flag.\n",
      "ERROR: pip's dependency resolver does not currently take into account all the packages that are installed. This behaviour is the source of the following dependency conflicts.\n",
      "awscli 2.17.18 requires python-dateutil<=2.8.2,>=2.1, but you have python-dateutil 2.9.0.post0 which is incompatible.\n",
      "\n",
      "WARNING: The directory '/home/.cache/pip' or its parent directory is not owned or is not writable by the current user. The cache has been disabled. Check the permissions and owner of that directory. If executing pip with sudo, you should use sudo's -H flag."
     ]
    }
   ],
   "source": [
    "sc.install_pypi_package(\"pandas\")\n",
    "sc.install_pypi_package(\"numpy\")"
   ]
  },
  {
   "cell_type": "code",
   "execution_count": 2,
   "id": "14856274-b1cb-44c5-b055-69ffc112d2fe",
   "metadata": {
    "execution": {
     "iopub.execute_input": "2025-03-01T03:31:43.716905Z",
     "iopub.status.busy": "2025-03-01T03:31:43.716243Z",
     "iopub.status.idle": "2025-03-01T03:31:43.996944Z",
     "shell.execute_reply": "2025-03-01T03:31:43.995286Z",
     "shell.execute_reply.started": "2025-03-01T03:31:43.716816Z"
    },
    "tags": []
   },
   "outputs": [
    {
     "data": {
      "application/vnd.jupyter.widget-view+json": {
       "model_id": "dc56c7bd952748b280933d86c8a41a52",
       "version_major": 2,
       "version_minor": 0
      },
      "text/plain": [
       "VBox()"
      ]
     },
     "metadata": {},
     "output_type": "display_data"
    },
    {
     "data": {
      "application/vnd.jupyter.widget-view+json": {
       "model_id": "",
       "version_major": 2,
       "version_minor": 0
      },
      "text/plain": [
       "FloatProgress(value=0.0, bar_style='info', description='Progress:', layout=Layout(height='25px', width='50%'),…"
      ]
     },
     "metadata": {},
     "output_type": "display_data"
    }
   ],
   "source": [
    "from pyspark.sql import SparkSession\n",
    "from pyspark.sql import functions as F\n",
    "from pyspark.sql.types import ArrayType, DoubleType\n",
    "from pyspark.sql.functions import struct, col\n",
    "import numpy as np\n",
    "import math"
   ]
  },
  {
   "cell_type": "code",
   "execution_count": 3,
   "id": "729fd22b-ce57-4bee-974a-dc9ed37275de",
   "metadata": {
    "execution": {
     "iopub.execute_input": "2025-03-01T03:31:43.999069Z",
     "iopub.status.busy": "2025-03-01T03:31:43.998695Z",
     "iopub.status.idle": "2025-03-01T03:31:44.065602Z",
     "shell.execute_reply": "2025-03-01T03:31:44.064310Z",
     "shell.execute_reply.started": "2025-03-01T03:31:43.999032Z"
    },
    "tags": []
   },
   "outputs": [
    {
     "data": {
      "application/vnd.jupyter.widget-view+json": {
       "model_id": "9b5160f573474c2b8bd06426bd7c588e",
       "version_major": 2,
       "version_minor": 0
      },
      "text/plain": [
       "VBox()"
      ]
     },
     "metadata": {},
     "output_type": "display_data"
    },
    {
     "data": {
      "application/vnd.jupyter.widget-view+json": {
       "model_id": "",
       "version_major": 2,
       "version_minor": 0
      },
      "text/plain": [
       "FloatProgress(value=0.0, bar_style='info', description='Progress:', layout=Layout(height='25px', width='50%'),…"
      ]
     },
     "metadata": {},
     "output_type": "display_data"
    }
   ],
   "source": [
    "# Initialize a Spark session\n",
    "spark = SparkSession.builder.appName(\"MovieSimilarity\").getOrCreate()"
   ]
  },
  {
   "cell_type": "code",
   "execution_count": 4,
   "id": "e1fb0d02-6dc5-49af-911a-72b9b88b79c6",
   "metadata": {
    "execution": {
     "iopub.execute_input": "2025-03-01T03:31:44.067332Z",
     "iopub.status.busy": "2025-03-01T03:31:44.067099Z",
     "iopub.status.idle": "2025-03-01T03:31:44.130239Z",
     "shell.execute_reply": "2025-03-01T03:31:44.129197Z",
     "shell.execute_reply.started": "2025-03-01T03:31:44.067297Z"
    },
    "tags": []
   },
   "outputs": [
    {
     "data": {
      "application/vnd.jupyter.widget-view+json": {
       "model_id": "40cd1325c3cc4925a154af3e73a42abc",
       "version_major": 2,
       "version_minor": 0
      },
      "text/plain": [
       "VBox()"
      ]
     },
     "metadata": {},
     "output_type": "display_data"
    },
    {
     "data": {
      "application/vnd.jupyter.widget-view+json": {
       "model_id": "",
       "version_major": 2,
       "version_minor": 0
      },
      "text/plain": [
       "FloatProgress(value=0.0, bar_style='info', description='Progress:', layout=Layout(height='25px', width='50%'),…"
      ]
     },
     "metadata": {},
     "output_type": "display_data"
    }
   ],
   "source": [
    "# Define the paths\n",
    "ratings_path = \"s3://csc555-jaewon/ml-10M100K/ratings.dat\"\n",
    "movies_path = \"s3://csc555-jaewon/ml-10M100K/movies.dat\""
   ]
  },
  {
   "cell_type": "code",
   "execution_count": 5,
   "id": "f2a95940-5e34-40c9-801d-e9edc8412f62",
   "metadata": {
    "execution": {
     "iopub.execute_input": "2025-03-01T03:31:44.131986Z",
     "iopub.status.busy": "2025-03-01T03:31:44.131732Z",
     "iopub.status.idle": "2025-03-01T03:32:05.555652Z",
     "shell.execute_reply": "2025-03-01T03:32:05.551358Z",
     "shell.execute_reply.started": "2025-03-01T03:31:44.131950Z"
    },
    "tags": []
   },
   "outputs": [
    {
     "data": {
      "application/vnd.jupyter.widget-view+json": {
       "model_id": "77bde73e36e546989d522052f51da473",
       "version_major": 2,
       "version_minor": 0
      },
      "text/plain": [
       "VBox()"
      ]
     },
     "metadata": {},
     "output_type": "display_data"
    },
    {
     "data": {
      "application/vnd.jupyter.widget-view+json": {
       "model_id": "",
       "version_major": 2,
       "version_minor": 0
      },
      "text/plain": [
       "FloatProgress(value=0.0, bar_style='info', description='Progress:', layout=Layout(height='25px', width='50%'),…"
      ]
     },
     "metadata": {},
     "output_type": "display_data"
    }
   ],
   "source": [
    "# Read ratings and movies data into DataFrames\n",
    "ratings_df = spark.read.option(\"delimiter\", \"::\").csv(ratings_path, inferSchema = True)\n",
    "movies_df = spark.read.option(\"delimiter\", \"::\").csv(movies_path, inferSchema = True)"
   ]
  },
  {
   "cell_type": "code",
   "execution_count": 6,
   "id": "5f2b9468-f53a-4fee-8243-f43e978ddb02",
   "metadata": {
    "execution": {
     "iopub.execute_input": "2025-03-01T03:32:05.565413Z",
     "iopub.status.busy": "2025-03-01T03:32:05.565169Z",
     "iopub.status.idle": "2025-03-01T03:32:05.893738Z",
     "shell.execute_reply": "2025-03-01T03:32:05.892687Z",
     "shell.execute_reply.started": "2025-03-01T03:32:05.565376Z"
    },
    "tags": []
   },
   "outputs": [
    {
     "data": {
      "application/vnd.jupyter.widget-view+json": {
       "model_id": "e0d73ed208c64b66bfaab5b72be64613",
       "version_major": 2,
       "version_minor": 0
      },
      "text/plain": [
       "VBox()"
      ]
     },
     "metadata": {},
     "output_type": "display_data"
    },
    {
     "data": {
      "application/vnd.jupyter.widget-view+json": {
       "model_id": "",
       "version_major": 2,
       "version_minor": 0
      },
      "text/plain": [
       "FloatProgress(value=0.0, bar_style='info', description='Progress:', layout=Layout(height='25px', width='50%'),…"
      ]
     },
     "metadata": {},
     "output_type": "display_data"
    }
   ],
   "source": [
    "# Rename columns\n",
    "ratings_df = ratings_df.toDF(\"userId\", \"movieId\", \"rating\", \"timestamp\")\n",
    "movies_df = movies_df.toDF(\"movieId\", \"title\", \"genres\")"
   ]
  },
  {
   "cell_type": "code",
   "execution_count": 7,
   "id": "4671a101-3d8f-4322-8858-994358bdd51a",
   "metadata": {
    "execution": {
     "iopub.execute_input": "2025-03-01T03:32:05.896766Z",
     "iopub.status.busy": "2025-03-01T03:32:05.896111Z",
     "iopub.status.idle": "2025-03-01T03:32:07.173597Z",
     "shell.execute_reply": "2025-03-01T03:32:07.172742Z",
     "shell.execute_reply.started": "2025-03-01T03:32:05.896725Z"
    },
    "tags": []
   },
   "outputs": [
    {
     "data": {
      "application/vnd.jupyter.widget-view+json": {
       "model_id": "810acf227f3e4817866ffb0369da1fa1",
       "version_major": 2,
       "version_minor": 0
      },
      "text/plain": [
       "VBox()"
      ]
     },
     "metadata": {},
     "output_type": "display_data"
    },
    {
     "data": {
      "application/vnd.jupyter.widget-view+json": {
       "model_id": "",
       "version_major": 2,
       "version_minor": 0
      },
      "text/plain": [
       "FloatProgress(value=0.0, bar_style='info', description='Progress:', layout=Layout(height='25px', width='50%'),…"
      ]
     },
     "metadata": {},
     "output_type": "display_data"
    },
    {
     "name": "stdout",
     "output_type": "stream",
     "text": [
      "+------+-------+------+---------+\n",
      "|userId|movieId|rating|timestamp|\n",
      "+------+-------+------+---------+\n",
      "|     1|    122|   5.0|838985046|\n",
      "|     1|    185|   5.0|838983525|\n",
      "|     1|    231|   5.0|838983392|\n",
      "|     1|    292|   5.0|838983421|\n",
      "|     1|    316|   5.0|838983392|\n",
      "+------+-------+------+---------+\n",
      "only showing top 5 rows\n",
      "\n",
      "+-------+--------------------+--------------------+\n",
      "|movieId|               title|              genres|\n",
      "+-------+--------------------+--------------------+\n",
      "|      1|    Toy Story (1995)|Adventure|Animati...|\n",
      "|      2|      Jumanji (1995)|Adventure|Childre...|\n",
      "|      3|Grumpier Old Men ...|      Comedy|Romance|\n",
      "|      4|Waiting to Exhale...|Comedy|Drama|Romance|\n",
      "|      5|Father of the Bri...|              Comedy|\n",
      "+-------+--------------------+--------------------+\n",
      "only showing top 5 rows"
     ]
    }
   ],
   "source": [
    "ratings_df.show(5)\n",
    "movies_df.show(5)"
   ]
  },
  {
   "cell_type": "code",
   "execution_count": 8,
   "id": "ef9b330b-2270-40b5-ab95-8272945e5e37",
   "metadata": {
    "execution": {
     "iopub.execute_input": "2025-03-01T03:32:07.176649Z",
     "iopub.status.busy": "2025-03-01T03:32:07.176043Z",
     "iopub.status.idle": "2025-03-01T03:32:07.454647Z",
     "shell.execute_reply": "2025-03-01T03:32:07.454005Z",
     "shell.execute_reply.started": "2025-03-01T03:32:07.176610Z"
    },
    "tags": []
   },
   "outputs": [
    {
     "data": {
      "application/vnd.jupyter.widget-view+json": {
       "model_id": "b6975cf8728c4e19839179b2b5e98186",
       "version_major": 2,
       "version_minor": 0
      },
      "text/plain": [
       "VBox()"
      ]
     },
     "metadata": {},
     "output_type": "display_data"
    },
    {
     "data": {
      "application/vnd.jupyter.widget-view+json": {
       "model_id": "",
       "version_major": 2,
       "version_minor": 0
      },
      "text/plain": [
       "FloatProgress(value=0.0, bar_style='info', description='Progress:', layout=Layout(height='25px', width='50%'),…"
      ]
     },
     "metadata": {},
     "output_type": "display_data"
    }
   ],
   "source": [
    "# Group by movieId and aggregate the userId and rating into a list of structs\n",
    "user_movie_matrix = (ratings_df\n",
    "                     .groupBy(\"movieId\") # Group by the movieId\n",
    "                     .agg(F.collect_list(struct(col(\"userId\").cast(\"integer\").alias(\"userId\"), # Cast userId to integer\n",
    "                                                col(\"rating\").cast(\"double\").alias(\"rating\"))) # Cast rating to double\n",
    "                           .alias(\"ratings\"))) # Alias the collected list as 'ratings'"
   ]
  },
  {
   "cell_type": "code",
   "execution_count": 9,
   "id": "1042a8ea-ec2a-4b71-a706-d4241a2852fe",
   "metadata": {
    "execution": {
     "iopub.execute_input": "2025-03-01T03:32:07.458455Z",
     "iopub.status.busy": "2025-03-01T03:32:07.458196Z",
     "iopub.status.idle": "2025-03-01T03:32:07.534270Z",
     "shell.execute_reply": "2025-03-01T03:32:07.533123Z",
     "shell.execute_reply.started": "2025-03-01T03:32:07.458429Z"
    },
    "tags": []
   },
   "outputs": [
    {
     "data": {
      "application/vnd.jupyter.widget-view+json": {
       "model_id": "df96dfee64554213a93a097430279f43",
       "version_major": 2,
       "version_minor": 0
      },
      "text/plain": [
       "VBox()"
      ]
     },
     "metadata": {},
     "output_type": "display_data"
    },
    {
     "data": {
      "application/vnd.jupyter.widget-view+json": {
       "model_id": "",
       "version_major": 2,
       "version_minor": 0
      },
      "text/plain": [
       "FloatProgress(value=0.0, bar_style='info', description='Progress:', layout=Layout(height='25px', width='50%'),…"
      ]
     },
     "metadata": {},
     "output_type": "display_data"
    }
   ],
   "source": [
    "# Function to convert the ratings into a user-item vector\n",
    "def ratings_to_vector(ratings, n_users):\n",
    "\n",
    "    # Sort the ratings by userId\n",
    "    pairs = [(r['userId'] - 1, float(r['rating'])) for r in ratings]\n",
    "    pairs.sort(key = lambda x: x[0])\n",
    "\n",
    "    # Extract user indices and corresponding ratings\n",
    "    indices = [p[0] for p in pairs]\n",
    "    values = [p[1] for p in pairs]\n",
    "\n",
    "    # Initialize a zeroed vector with length n_users\n",
    "    vector = np.zeros(n_users)\n",
    "\n",
    "    # Populate the vector with ratings based on the sorted indices\n",
    "    for idx, value in zip(indices, values):\n",
    "        vector[idx] = value\n",
    "\n",
    "    return vector.tolist()"
   ]
  },
  {
   "cell_type": "code",
   "execution_count": 10,
   "id": "ee856b28-8d1c-444b-888e-35ab606281e6",
   "metadata": {
    "execution": {
     "iopub.execute_input": "2025-03-01T03:32:07.535779Z",
     "iopub.status.busy": "2025-03-01T03:32:07.535533Z",
     "iopub.status.idle": "2025-03-01T03:32:14.906542Z",
     "shell.execute_reply": "2025-03-01T03:32:14.905828Z",
     "shell.execute_reply.started": "2025-03-01T03:32:07.535743Z"
    },
    "tags": []
   },
   "outputs": [
    {
     "data": {
      "application/vnd.jupyter.widget-view+json": {
       "model_id": "fbc7b3c1998a4e02a00917bf26b01966",
       "version_major": 2,
       "version_minor": 0
      },
      "text/plain": [
       "VBox()"
      ]
     },
     "metadata": {},
     "output_type": "display_data"
    },
    {
     "data": {
      "application/vnd.jupyter.widget-view+json": {
       "model_id": "",
       "version_major": 2,
       "version_minor": 0
      },
      "text/plain": [
       "FloatProgress(value=0.0, bar_style='info', description='Progress:', layout=Layout(height='25px', width='50%'),…"
      ]
     },
     "metadata": {},
     "output_type": "display_data"
    }
   ],
   "source": [
    "# Get the maximum user ID to determine the size of the vector\n",
    "max_user_id = ratings_df.agg(F.max(\"userId\")).collect()[0][0]"
   ]
  },
  {
   "cell_type": "code",
   "execution_count": 11,
   "id": "261a0356-0dc3-4c74-b085-9d497a9bb0c2",
   "metadata": {
    "execution": {
     "iopub.execute_input": "2025-03-01T03:32:14.908020Z",
     "iopub.status.busy": "2025-03-01T03:32:14.907787Z",
     "iopub.status.idle": "2025-03-01T03:32:14.995370Z",
     "shell.execute_reply": "2025-03-01T03:32:14.994503Z",
     "shell.execute_reply.started": "2025-03-01T03:32:14.907985Z"
    },
    "tags": []
   },
   "outputs": [
    {
     "data": {
      "application/vnd.jupyter.widget-view+json": {
       "model_id": "9208e5688cf64419a62d19f1b6fa5983",
       "version_major": 2,
       "version_minor": 0
      },
      "text/plain": [
       "VBox()"
      ]
     },
     "metadata": {},
     "output_type": "display_data"
    },
    {
     "data": {
      "application/vnd.jupyter.widget-view+json": {
       "model_id": "",
       "version_major": 2,
       "version_minor": 0
      },
      "text/plain": [
       "FloatProgress(value=0.0, bar_style='info', description='Progress:', layout=Layout(height='25px', width='50%'),…"
      ]
     },
     "metadata": {},
     "output_type": "display_data"
    }
   ],
   "source": [
    "# Define a UDF to apply the ratings_to_vector function\n",
    "ratings_to_vector_udf = F.udf(lambda x: ratings_to_vector(x, max_user_id), ArrayType(DoubleType()))"
   ]
  },
  {
   "cell_type": "code",
   "execution_count": 12,
   "id": "5aca5215-b02b-4461-9885-35b99b7cf446",
   "metadata": {
    "execution": {
     "iopub.execute_input": "2025-03-01T03:32:14.996586Z",
     "iopub.status.busy": "2025-03-01T03:32:14.996405Z",
     "iopub.status.idle": "2025-03-01T03:32:15.300079Z",
     "shell.execute_reply": "2025-03-01T03:32:15.298797Z",
     "shell.execute_reply.started": "2025-03-01T03:32:14.996563Z"
    },
    "tags": []
   },
   "outputs": [
    {
     "data": {
      "application/vnd.jupyter.widget-view+json": {
       "model_id": "401907c1bdf14e72b2267b1c9e346dd8",
       "version_major": 2,
       "version_minor": 0
      },
      "text/plain": [
       "VBox()"
      ]
     },
     "metadata": {},
     "output_type": "display_data"
    },
    {
     "data": {
      "application/vnd.jupyter.widget-view+json": {
       "model_id": "",
       "version_major": 2,
       "version_minor": 0
      },
      "text/plain": [
       "FloatProgress(value=0.0, bar_style='info', description='Progress:', layout=Layout(height='25px', width='50%'),…"
      ]
     },
     "metadata": {},
     "output_type": "display_data"
    }
   ],
   "source": [
    "# Apply the UDF to the user_movie_matrix DataFrame\n",
    "movie_vectors = user_movie_matrix.select(\"movieId\", ratings_to_vector_udf(\"ratings\").alias(\"features\"))"
   ]
  },
  {
   "cell_type": "code",
   "execution_count": 13,
   "id": "e540c50f-2bce-425d-ba0a-7a44009bbed0",
   "metadata": {
    "execution": {
     "iopub.execute_input": "2025-03-01T03:32:15.301819Z",
     "iopub.status.busy": "2025-03-01T03:32:15.301292Z",
     "iopub.status.idle": "2025-03-01T03:32:24.620840Z",
     "shell.execute_reply": "2025-03-01T03:32:24.619298Z",
     "shell.execute_reply.started": "2025-03-01T03:32:15.301778Z"
    },
    "tags": []
   },
   "outputs": [
    {
     "data": {
      "application/vnd.jupyter.widget-view+json": {
       "model_id": "11983c6a87814703b2c58fa7b3ff4d45",
       "version_major": 2,
       "version_minor": 0
      },
      "text/plain": [
       "VBox()"
      ]
     },
     "metadata": {},
     "output_type": "display_data"
    },
    {
     "data": {
      "application/vnd.jupyter.widget-view+json": {
       "model_id": "",
       "version_major": 2,
       "version_minor": 0
      },
      "text/plain": [
       "FloatProgress(value=0.0, bar_style='info', description='Progress:', layout=Layout(height='25px', width='50%'),…"
      ]
     },
     "metadata": {},
     "output_type": "display_data"
    }
   ],
   "source": [
    "# Extract the feature vector for the movie \"Toy Story\"\n",
    "toy_story_vector = movie_vectors.filter(col(\"movieId\") == 1).select(\"features\").collect()[0][0]"
   ]
  },
  {
   "cell_type": "code",
   "execution_count": 14,
   "id": "16e534a3-7e40-419d-84d7-5b994ca5c48b",
   "metadata": {
    "execution": {
     "iopub.execute_input": "2025-03-01T03:32:24.622971Z",
     "iopub.status.busy": "2025-03-01T03:32:24.622676Z",
     "iopub.status.idle": "2025-03-01T03:32:24.733936Z",
     "shell.execute_reply": "2025-03-01T03:32:24.731777Z",
     "shell.execute_reply.started": "2025-03-01T03:32:24.622933Z"
    },
    "tags": []
   },
   "outputs": [
    {
     "data": {
      "application/vnd.jupyter.widget-view+json": {
       "model_id": "ec028c9614284dd881c136ac672ada8e",
       "version_major": 2,
       "version_minor": 0
      },
      "text/plain": [
       "VBox()"
      ]
     },
     "metadata": {},
     "output_type": "display_data"
    },
    {
     "data": {
      "application/vnd.jupyter.widget-view+json": {
       "model_id": "",
       "version_major": 2,
       "version_minor": 0
      },
      "text/plain": [
       "FloatProgress(value=0.0, bar_style='info', description='Progress:', layout=Layout(height='25px', width='50%'),…"
      ]
     },
     "metadata": {},
     "output_type": "display_data"
    }
   ],
   "source": [
    "# Function to compute cosine similarity between two vectors\n",
    "def cosine_similarity(vec1, vec2):\n",
    "    \n",
    "    # Check if the lengths of the two vectors are the same\n",
    "    if len(vec1) != len(vec2):\n",
    "        return 0.0\n",
    "\n",
    "    # Find the number of common non-zero elements between the vectors\n",
    "    common_users = sum([1 for v1, v2 in zip(vec1, vec2) if v1 != 0 and v2 != 0])\n",
    "\n",
    "    # If there are fewer than 10 common users, return similarity of 0\n",
    "    if common_users < 10:\n",
    "        return 0.0\n",
    "\n",
    "    # Calculate the dot product of the two vectors\n",
    "    dot_product = sum([v1 * v2 for v1, v2 in zip(vec1, vec2)])\n",
    "\n",
    "    # Calculate the norms of the individual vectors\n",
    "    norm1 = math.sqrt(sum([v1 ** 2 for v1 in vec1]))\n",
    "    norm2 = math.sqrt(sum([v2 ** 2 for v2 in vec2]))\n",
    "\n",
    "    return dot_product / (norm1 * norm2) if norm1 * norm2 != 0 else 0.0"
   ]
  },
  {
   "cell_type": "code",
   "execution_count": 15,
   "id": "ca511883-40ba-4c88-91be-28fb78beca97",
   "metadata": {
    "execution": {
     "iopub.execute_input": "2025-03-01T03:32:24.736546Z",
     "iopub.status.busy": "2025-03-01T03:32:24.735823Z",
     "iopub.status.idle": "2025-03-01T03:32:24.876132Z",
     "shell.execute_reply": "2025-03-01T03:32:24.875360Z",
     "shell.execute_reply.started": "2025-03-01T03:32:24.736505Z"
    },
    "tags": []
   },
   "outputs": [
    {
     "data": {
      "application/vnd.jupyter.widget-view+json": {
       "model_id": "49bec5f224dc4376b8a7117264abc3b9",
       "version_major": 2,
       "version_minor": 0
      },
      "text/plain": [
       "VBox()"
      ]
     },
     "metadata": {},
     "output_type": "display_data"
    },
    {
     "data": {
      "application/vnd.jupyter.widget-view+json": {
       "model_id": "",
       "version_major": 2,
       "version_minor": 0
      },
      "text/plain": [
       "FloatProgress(value=0.0, bar_style='info', description='Progress:', layout=Layout(height='25px', width='50%'),…"
      ]
     },
     "metadata": {},
     "output_type": "display_data"
    }
   ],
   "source": [
    "# Define a UDF for cosine similarity to apply on the movie vectors\n",
    "cosine_similarity_udf = F.udf(lambda x: cosine_similarity(toy_story_vector, x), DoubleType())"
   ]
  },
  {
   "cell_type": "code",
   "execution_count": 16,
   "id": "4aa7f72c-c46e-48b3-9662-548e6235d640",
   "metadata": {
    "execution": {
     "iopub.execute_input": "2025-03-01T03:32:24.879190Z",
     "iopub.status.busy": "2025-03-01T03:32:24.878716Z",
     "iopub.status.idle": "2025-03-01T03:32:25.168472Z",
     "shell.execute_reply": "2025-03-01T03:32:25.167500Z",
     "shell.execute_reply.started": "2025-03-01T03:32:24.879150Z"
    },
    "tags": []
   },
   "outputs": [
    {
     "data": {
      "application/vnd.jupyter.widget-view+json": {
       "model_id": "84d39d5587764699aa873f0507998dfb",
       "version_major": 2,
       "version_minor": 0
      },
      "text/plain": [
       "VBox()"
      ]
     },
     "metadata": {},
     "output_type": "display_data"
    },
    {
     "data": {
      "application/vnd.jupyter.widget-view+json": {
       "model_id": "",
       "version_major": 2,
       "version_minor": 0
      },
      "text/plain": [
       "FloatProgress(value=0.0, bar_style='info', description='Progress:', layout=Layout(height='25px', width='50%'),…"
      ]
     },
     "metadata": {},
     "output_type": "display_data"
    }
   ],
   "source": [
    "# Calculate the similarity between \"Toy Story\" and other movies\n",
    "similarities = movie_vectors.filter(col(\"movieId\") != 1).select(\"movieId\", cosine_similarity_udf(\"features\").alias(\"score\"))"
   ]
  },
  {
   "cell_type": "code",
   "execution_count": 17,
   "id": "a6a87f0e-ddbd-43e2-aa85-56118b6dae8d",
   "metadata": {
    "execution": {
     "iopub.execute_input": "2025-03-01T03:32:25.170382Z",
     "iopub.status.busy": "2025-03-01T03:32:25.169924Z",
     "iopub.status.idle": "2025-03-01T03:32:25.414037Z",
     "shell.execute_reply": "2025-03-01T03:32:25.413064Z",
     "shell.execute_reply.started": "2025-03-01T03:32:25.170343Z"
    },
    "tags": []
   },
   "outputs": [
    {
     "data": {
      "application/vnd.jupyter.widget-view+json": {
       "model_id": "9a9b36131c164857964bbad17ddfe643",
       "version_major": 2,
       "version_minor": 0
      },
      "text/plain": [
       "VBox()"
      ]
     },
     "metadata": {},
     "output_type": "display_data"
    },
    {
     "data": {
      "application/vnd.jupyter.widget-view+json": {
       "model_id": "",
       "version_major": 2,
       "version_minor": 0
      },
      "text/plain": [
       "FloatProgress(value=0.0, bar_style='info', description='Progress:', layout=Layout(height='25px', width='50%'),…"
      ]
     },
     "metadata": {},
     "output_type": "display_data"
    }
   ],
   "source": [
    "# Join the movie similarity results with the movie titles and sort by similarity score\n",
    "result = (similarities.join(movies_df, \"movieId\")\n",
    "          .select(F.lit(\"Toy Story\").alias(\"Movie Name\"), # Set \"Toy Story\" as the reference movie\n",
    "                  col(\"title\").alias(\"Similar Movies\"),\n",
    "                  col(\"score\").alias(\"score\"))\n",
    "          .orderBy(F.desc(\"score\")) # Sort by descending similarity score\n",
    "          .limit(10)) # Limit the results to the top 10 most similar movies"
   ]
  },
  {
   "cell_type": "code",
   "execution_count": 18,
   "id": "40629cdf-a0ab-47e7-a621-10ad5dfab402",
   "metadata": {
    "execution": {
     "iopub.execute_input": "2025-03-01T03:32:25.415948Z",
     "iopub.status.busy": "2025-03-01T03:32:25.415755Z",
     "iopub.status.idle": "2025-03-01T03:34:27.168372Z",
     "shell.execute_reply": "2025-03-01T03:34:27.167341Z",
     "shell.execute_reply.started": "2025-03-01T03:32:25.415914Z"
    },
    "tags": []
   },
   "outputs": [
    {
     "data": {
      "application/vnd.jupyter.widget-view+json": {
       "model_id": "715d06ef736e4b55a3ee81df57c80b75",
       "version_major": 2,
       "version_minor": 0
      },
      "text/plain": [
       "VBox()"
      ]
     },
     "metadata": {},
     "output_type": "display_data"
    },
    {
     "data": {
      "application/vnd.jupyter.widget-view+json": {
       "model_id": "",
       "version_major": 2,
       "version_minor": 0
      },
      "text/plain": [
       "FloatProgress(value=0.0, bar_style='info', description='Progress:', layout=Layout(height='25px', width='50%'),…"
      ]
     },
     "metadata": {},
     "output_type": "display_data"
    },
    {
     "name": "stdout",
     "output_type": "stream",
     "text": [
      "+----------+------------------------------------------------------------+------------------+\n",
      "|Movie Name|Similar Movies                                              |score             |\n",
      "+----------+------------------------------------------------------------+------------------+\n",
      "|Toy Story |Star Wars: Episode IV - A New Hope (a.k.a. Star Wars) (1977)|0.5803460720322966|\n",
      "|Toy Story |Independence Day (a.k.a. ID4) (1996)                        |0.5599535411310438|\n",
      "|Toy Story |Star Wars: Episode VI - Return of the Jedi (1983)           |0.5451452000679463|\n",
      "|Toy Story |Mission: Impossible (1996)                                  |0.5400152265083048|\n",
      "|Toy Story |Willy Wonka & the Chocolate Factory (1971)                  |0.5283965606243346|\n",
      "|Toy Story |Back to the Future (1985)                                   |0.5243306398074609|\n",
      "|Toy Story |Aladdin (1992)                                              |0.5213231906632042|\n",
      "|Toy Story |12 Monkeys (Twelve Monkeys) (1995)                          |0.5153401270028004|\n",
      "|Toy Story |Forrest Gump (1994)                                         |0.5152782381561577|\n",
      "|Toy Story |Star Wars: Episode V - The Empire Strikes Back (1980)       |0.5093809546433771|\n",
      "+----------+------------------------------------------------------------+------------------+"
     ]
    }
   ],
   "source": [
    "# Display the top 10 similar movies\n",
    "result.show(truncate = False)"
   ]
  },
  {
   "cell_type": "code",
   "execution_count": null,
   "id": "23bbad4a-625f-4b51-a481-15fbf9740127",
   "metadata": {},
   "outputs": [],
   "source": []
  }
 ],
 "metadata": {
  "kernelspec": {
   "display_name": "PySpark",
   "language": "python",
   "name": "pysparkkernel"
  },
  "language_info": {
   "codemirror_mode": {
    "name": "python",
    "version": 3
   },
   "file_extension": ".py",
   "mimetype": "text/x-python",
   "name": "pyspark",
   "pygments_lexer": "python3"
  }
 },
 "nbformat": 4,
 "nbformat_minor": 5
}
