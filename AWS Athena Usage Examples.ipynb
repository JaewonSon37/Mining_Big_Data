{
  "cells": [
    {
      "cell_type": "markdown",
      "id": "b4f6293c",
      "metadata": {
        "id": "b4f6293c"
      },
      "source": [
        "## AWS Athena Usage Examples\n",
        "---"
      ]
    },
    {
      "cell_type": "code",
      "execution_count": null,
      "id": "33d89def-8f5c-4bf5-9e7e-63d831453867",
      "metadata": {
        "id": "33d89def-8f5c-4bf5-9e7e-63d831453867",
        "tags": []
      },
      "outputs": [],
      "source": [
        "import pandas as pd\n",
        "import boto3\n",
        "import time"
      ]
    },
    {
      "cell_type": "code",
      "execution_count": null,
      "id": "2166f289-e6af-42bf-b15a-724089554d46",
      "metadata": {
        "colab": {
          "base_uri": "https://localhost:8080/"
        },
        "id": "2166f289-e6af-42bf-b15a-724089554d46",
        "outputId": "96de78ad-e360-42b1-b948-71f61397f5c9",
        "tags": []
      },
      "outputs": [],
      "source": [
        "# Download and unzip the MovieLens 100k dataset\n",
        "!wget http://www.grouplens.org/system/files/ml-100k.zip\n",
        "!unzip ml-100k\n",
        "!rm ml-100k.zip"
      ]
    },
    {
      "cell_type": "code",
      "execution_count": null,
      "id": "4845b00f",
      "metadata": {
        "id": "4845b00f"
      },
      "outputs": [],
      "source": [
        "# Define column names for the data in u.data file\n",
        "column_names = ['user_id', 'item_id', 'rating', 'timestamp']"
      ]
    },
    {
      "cell_type": "code",
      "execution_count": null,
      "id": "4a0fc83c",
      "metadata": {
        "id": "4a0fc83c"
      },
      "outputs": [],
      "source": [
        "# Define the path to the u.data file\n",
        "data_file_path = 'ml-100k/u.data'"
      ]
    },
    {
      "cell_type": "code",
      "execution_count": null,
      "id": "f1ffaa7b-d5ae-4946-b477-fe408a105c42",
      "metadata": {
        "colab": {
          "base_uri": "https://localhost:8080/",
          "height": 423
        },
        "id": "f1ffaa7b-d5ae-4946-b477-fe408a105c42",
        "outputId": "10139fde-962f-47b8-d10e-e72f3558075b",
        "tags": []
      },
      "outputs": [],
      "source": [
        "# Load the u.data file into a DataFrame\n",
        "df = pd.read_csv(data_file_path, sep = '\\t', names = column_names)\n",
        "df"
      ]
    },
    {
      "cell_type": "code",
      "execution_count": null,
      "id": "ae38cb6a-2c81-43f4-a480-8102cde225fa",
      "metadata": {
        "id": "ae38cb6a-2c81-43f4-a480-8102cde225fa",
        "tags": []
      },
      "outputs": [],
      "source": [
        "# Load item information from u.item file\n",
        "item_data = pd.read_csv('ml-100k/u.item',\n",
        "                        sep = '|',\n",
        "                        header = None,\n",
        "                        encoding = 'ISO-8859-1',\n",
        "                        usecols = [0, 1],\n",
        "                        names = ['item_id', 'item_name'])"
      ]
    },
    {
      "cell_type": "code",
      "execution_count": null,
      "id": "d30ba3b8",
      "metadata": {
        "colab": {
          "base_uri": "https://localhost:8080/",
          "height": 423
        },
        "id": "d30ba3b8",
        "outputId": "a16ddb02-1fd6-4d83-b5d3-6c6bd2046b17"
      },
      "outputs": [],
      "source": [
        "# Merge the rating data with item names on 'item_id'\n",
        "df = pd.merge(df, item_data, on = 'item_id')\n",
        "df"
      ]
    },
    {
      "cell_type": "code",
      "execution_count": null,
      "id": "zUdli4ZnbJBH",
      "metadata": {
        "id": "zUdli4ZnbJBH"
      },
      "outputs": [],
      "source": [
        "# Convert the DataFrame into a CSV format\n",
        "merged_csv = df.to_csv(index = False, header = False)"
      ]
    },
    {
      "cell_type": "code",
      "execution_count": null,
      "id": "05a2903c-be28-496c-be06-704a47a91031",
      "metadata": {
        "id": "05a2903c-be28-496c-be06-704a47a91031"
      },
      "outputs": [],
      "source": [
        "# Set AWS region and S3 bucket details\n",
        "AWS_REGION = 'us-east-1'\n",
        "S3_BUCKET_NAME = 'csc555-jaewon'\n",
        "S3_KEY = 'athena/'\n",
        "filename = 'ml-100k.csv'"
      ]
    },
    {
      "cell_type": "code",
      "execution_count": null,
      "id": "gq_1Hae2b75P",
      "metadata": {
        "id": "gq_1Hae2b75P"
      },
      "outputs": [],
      "source": [
        "# Set up the session with credentials\n",
        "session = boto3.Session(aws_access_key_id = '--',\n",
        "                        aws_secret_access_key = '--',\n",
        "                        aws_session_token = '--',\n",
        "                        region_name = '--')"
      ]
    },
    {
      "cell_type": "code",
      "execution_count": null,
      "id": "D1faqJrOcBwT",
      "metadata": {
        "id": "D1faqJrOcBwT"
      },
      "outputs": [],
      "source": [
        "# Create an S3 client using the session\n",
        "s3 = session.client('s3')"
      ]
    },
    {
      "cell_type": "code",
      "execution_count": null,
      "id": "3be7b186",
      "metadata": {
        "id": "3be7b186"
      },
      "outputs": [],
      "source": [
        "# Create an S3 client to interact with AWS S3\n",
        "s3 = boto3.client('s3', region_name = AWS_REGION)"
      ]
    },
    {
      "cell_type": "code",
      "execution_count": null,
      "id": "db60e831-30e0-4766-93ba-c15968e5bd1c",
      "metadata": {
        "colab": {
          "base_uri": "https://localhost:8080/",
          "height": 304
        },
        "id": "db60e831-30e0-4766-93ba-c15968e5bd1c",
        "outputId": "17c22c5b-5d35-473c-fccc-15c28a2fb566",
        "tags": []
      },
      "outputs": [],
      "source": [
        "# Upload CSV file to S3\n",
        "s3.put_object(Body = merged_csv, Bucket = S3_BUCKET_NAME, Key = f'{S3_KEY}{filename}')"
      ]
    },
    {
      "cell_type": "code",
      "execution_count": null,
      "id": "4e524941",
      "metadata": {
        "id": "4e524941"
      },
      "outputs": [],
      "source": [
        "# Define Athena-related parameters\n",
        "DATABASE_NAME = 'default'\n",
        "TABLE_NAME = 'test-table'"
      ]
    },
    {
      "cell_type": "code",
      "execution_count": null,
      "id": "674fab71",
      "metadata": {
        "id": "674fab71"
      },
      "outputs": [],
      "source": [
        "# Create an Athena client to interact with AWS Athena\n",
        "athena_client = boto3.client('athena', region_name = AWS_REGION)"
      ]
    },
    {
      "cell_type": "code",
      "execution_count": null,
      "id": "bbe5789a-7582-4345-9a30-e0001d0663f5",
      "metadata": {
        "colab": {
          "base_uri": "https://localhost:8080/"
        },
        "id": "bbe5789a-7582-4345-9a30-e0001d0663f5",
        "outputId": "2455f219-d095-467a-88ac-7093f59c8c1f",
        "tags": []
      },
      "outputs": [],
      "source": [
        "# Create the SQL query to create an external table in Athena\n",
        "create_table_query = f\"\"\"CREATE EXTERNAL TABLE IF NOT EXISTS `{DATABASE_NAME}`.`{TABLE_NAME}`\n",
        "                                (user_id INT,\n",
        "                                 item_id INT,\n",
        "                                 rating INT,\n",
        "                                 timestamp INT,\n",
        "                                 item_name STRING)\n",
        "                         ROW FORMAT DELIMITED\n",
        "                         FIELDS TERMINATED BY ','\n",
        "                         LOCATION 's3://{S3_BUCKET_NAME}/athena'\"\"\"\n",
        "print(create_table_query.strip())"
      ]
    },
    {
      "cell_type": "code",
      "execution_count": null,
      "id": "f4f8ed3e-d4d9-42de-b2ae-ecdc39eb004e",
      "metadata": {
        "colab": {
          "base_uri": "https://localhost:8080/",
          "height": 356
        },
        "id": "f4f8ed3e-d4d9-42de-b2ae-ecdc39eb004e",
        "outputId": "4953c57f-e57e-4e02-b89a-9111deadfe5d",
        "tags": []
      },
      "outputs": [],
      "source": [
        "# Submit the query to Athena to create the external table\n",
        "response = athena_client.start_query_execution(QueryString = create_table_query.strip(),\n",
        "                                               QueryExecutionContext = {'Database': DATABASE_NAME},\n",
        "                                               ResultConfiguration = {'OutputLocation': f's3://{S3_BUCKET_NAME}/query_results/'})\n",
        "print(\"Athena table creation query submitted.\")"
      ]
    },
    {
      "cell_type": "code",
      "execution_count": null,
      "id": "43727cd7",
      "metadata": {
        "colab": {
          "base_uri": "https://localhost:8080/",
          "height": 321
        },
        "id": "43727cd7",
        "outputId": "30585767-4067-4ddf-97e2-24ce2ddc6808"
      },
      "outputs": [],
      "source": [
        "# Initialize the Athena client to interact with AWS Athena\n",
        "athena_client = boto3.client('athena')"
      ]
    },
    {
      "cell_type": "code",
      "execution_count": null,
      "id": "c6815d24",
      "metadata": {
        "id": "c6815d24"
      },
      "outputs": [],
      "source": [
        "# Function to run an Athena query\n",
        "def run_athena_query(query, database, output_location):\n",
        "\n",
        "    # Start query execution and store the response\n",
        "    response = athena_client.start_query_execution(QueryString = query, # The SQL query to execute\n",
        "                                                   QueryExecutionContext = {'Database': database}, # Specify the database to use\n",
        "                                                   ResultConfiguration = {'OutputLocation': output_location}) # Specify where to store the query results\n",
        "\n",
        "    return response['QueryExecutionId']"
      ]
    },
    {
      "cell_type": "code",
      "execution_count": null,
      "id": "8b7e8fbb",
      "metadata": {
        "id": "8b7e8fbb"
      },
      "outputs": [],
      "source": [
        "# Function to check the status of a query execution\n",
        "def check_query_status(query_execution_id):\n",
        "\n",
        "    while True:\n",
        "        # Get the current status of the query\n",
        "        response = athena_client.get_query_execution(QueryExecutionId = query_execution_id)\n",
        "        status = response['QueryExecution']['Status']['State']\n",
        "\n",
        "        # If the query succeeded, break the loop\n",
        "        if status == 'SUCCEEDED':\n",
        "            print(\"Query succeeded\")\n",
        "            break\n",
        "\n",
        "        # If the query failed or was cancelled, raise an exception\n",
        "        elif status in ['FAILED', 'CANCELLED']:\n",
        "            print(f\"Query {status.lower()}\")\n",
        "            raise Exception(f\"Query failed or was cancelled: {response}\")\n",
        "\n",
        "        # Sleep for 2 seconds before checking the status again\n",
        "        time.sleep(2)"
      ]
    },
    {
      "cell_type": "code",
      "execution_count": null,
      "id": "8ffa47f8-efcc-4052-a9dc-9146ccf9a784",
      "metadata": {
        "id": "8ffa47f8-efcc-4052-a9dc-9146ccf9a784"
      },
      "outputs": [],
      "source": [
        "# Function to retrieve the results of a query and convert them into a pandas DataFrame\n",
        "def get_query_results_as_dataframe(query_execution_id):\n",
        "\n",
        "    # Get paginated results from the query\n",
        "    results_paginator = athena_client.get_paginator('get_query_results')\n",
        "    results_iter = results_paginator.paginate(QueryExecutionId = query_execution_id)\n",
        "\n",
        "    columns = []\n",
        "    rows = []\n",
        "\n",
        "    for results_page in results_iter:\n",
        "\n",
        "        # Extract the column names from the first results page\n",
        "        if not columns:\n",
        "            columns = [col['Label'] for col in results_page['ResultSet']['ResultSetMetadata']['ColumnInfo']]\n",
        "\n",
        "        # Extract the data from the rows\n",
        "        for row in results_page['ResultSet']['Rows'][1:]:\n",
        "            rows.append([col.get('VarCharValue', None) for col in row['Data']])\n",
        "\n",
        "    # Convert the results into a pandas DataFrame\n",
        "    df = pd.DataFrame(rows, columns = columns)\n",
        "\n",
        "    return df"
      ]
    },
    {
      "cell_type": "code",
      "execution_count": null,
      "id": "c2dba169",
      "metadata": {
        "id": "c2dba169"
      },
      "outputs": [],
      "source": [
        "# Example query\n",
        "query = f'SELECT * FROM \"default\".\"{TABLE_NAME}\" limit 10;'\n",
        "database = 'default'\n",
        "output_location = f's3://{S3_BUCKET_NAME}/query_results/' # S3 bucket to store query results"
      ]
    },
    {
      "cell_type": "code",
      "execution_count": null,
      "id": "2b94250b",
      "metadata": {
        "colab": {
          "base_uri": "https://localhost:8080/",
          "height": 304
        },
        "id": "2b94250b",
        "outputId": "3f9a15c0-c4d2-499c-b9e0-d0bd8e88e701"
      },
      "outputs": [],
      "source": [
        "# Run the query\n",
        "query_execution_id = run_athena_query(query, database, output_location)"
      ]
    },
    {
      "cell_type": "code",
      "execution_count": null,
      "id": "bded487b",
      "metadata": {
        "colab": {
          "base_uri": "https://localhost:8080/",
          "height": 158
        },
        "id": "bded487b",
        "outputId": "bb88845a-942b-4fd7-954c-cc590da1eb4e"
      },
      "outputs": [],
      "source": [
        "# Check the status of the query\n",
        "check_query_status(query_execution_id)"
      ]
    },
    {
      "cell_type": "code",
      "execution_count": null,
      "id": "05386a18-771e-490c-87e4-07535d6c7910",
      "metadata": {
        "colab": {
          "base_uri": "https://localhost:8080/",
          "height": 176
        },
        "id": "05386a18-771e-490c-87e4-07535d6c7910",
        "outputId": "c09f1cb0-7f1f-4645-816c-cd8263071b40",
        "tags": []
      },
      "outputs": [],
      "source": [
        "# Fetch the results as a pandas DataFrame\n",
        "df = get_query_results_as_dataframe(query_execution_id)\n",
        "df"
      ]
    },
    {
      "cell_type": "code",
      "execution_count": null,
      "id": "54564095-7971-4a7d-a09d-c53a91eedbd3",
      "metadata": {
        "id": "54564095-7971-4a7d-a09d-c53a91eedbd3"
      },
      "outputs": [],
      "source": []
    }
  ],
  "metadata": {
    "colab": {
      "provenance": []
    },
    "kernelspec": {
      "display_name": "Python 3",
      "language": "python",
      "name": "python3"
    },
    "language_info": {
      "codemirror_mode": {
        "name": "ipython",
        "version": 3
      },
      "file_extension": ".py",
      "mimetype": "text/x-python",
      "name": "python",
      "nbconvert_exporter": "python",
      "pygments_lexer": "ipython3",
      "version": "3.9.11"
    }
  },
  "nbformat": 4,
  "nbformat_minor": 5
}
