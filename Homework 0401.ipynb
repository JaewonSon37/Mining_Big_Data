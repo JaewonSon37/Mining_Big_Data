{
 "cells": [
  {
   "cell_type": "markdown",
   "metadata": {},
   "source": [
    "## Homework 2"
   ]
  },
  {
   "cell_type": "markdown",
   "metadata": {},
   "source": [
    "---\n",
    "### Part 1.a"
   ]
  },
  {
   "cell_type": "code",
   "execution_count": null,
   "metadata": {},
   "outputs": [],
   "source": [
    "# Mapper for processing Student Table\n",
    "def mapper(student_record):\n",
    "\n",
    "    last_name = student_record.Last # Extract 'Last' name\n",
    "    grade = student_record.Grade # Extract 'Grade'\n",
    "    \n",
    "    emit(last_name, grade)"
   ]
  },
  {
   "cell_type": "code",
   "execution_count": null,
   "metadata": {},
   "outputs": [],
   "source": [
    "# Reducer for calculating average grade per last name\n",
    "def reducer(last_name, grades_list):\n",
    "    \n",
    "    avg_grade = sum(grades_list) / len(grades_list) # Calculate the average of the grades in the list\n",
    "    \n",
    "    emit(last_name, avg_grade)"
   ]
  },
  {
   "cell_type": "markdown",
   "metadata": {},
   "source": [
    "---\n",
    "### Part 1.b"
   ]
  },
  {
   "cell_type": "code",
   "execution_count": null,
   "metadata": {},
   "outputs": [],
   "source": [
    "# Mapper for processing Student Table\n",
    "def mapper(student_record):\n",
    "\n",
    "    city = student_record.City # Extract 'City'\n",
    "    state = student_record.State # Extract 'State'\n",
    "    name = student_record.Name # Extract 'Name'\n",
    "    \n",
    "    emit((city, state), name)"
   ]
  },
  {
   "cell_type": "code",
   "execution_count": null,
   "metadata": {},
   "outputs": [],
   "source": [
    "# Reducer for counting distinct names per city and state\n",
    "def reducer(city_state, names_list):\n",
    "    \n",
    "    distinct_names = set(names_list) # Convert the names list to a set to get distinct names\n",
    "    \n",
    "    emit(city_state, len(distinct_names))"
   ]
  },
  {
   "cell_type": "markdown",
   "metadata": {},
   "source": [
    "---\n",
    "### Part 1.c"
   ]
  },
  {
   "cell_type": "code",
   "execution_count": null,
   "metadata": {},
   "outputs": [],
   "source": [
    "# Mapper for processing Employee and Agent Tables\n",
    "def mapper(employee_record, agent_record):\n",
    "\n",
    "    # Extract from Employee Table\n",
    "    if employee_record:\n",
    "        first_name = employee_record.First  # Extract 'First' name\n",
    "        last_name = employee_record.Last  # Extract 'Last' name\n",
    "        eid = employee_record.EID  # Extract 'EID'\n",
    "        age = employee_record.Age  # Extract 'Age'\n",
    "        \n",
    "        emit((first_name, last_name), (\"EID\", eid, \"Age\", age))\n",
    "    \n",
    "    # Extract from Agent Table\n",
    "    if agent_record:\n",
    "        first_name = agent_record.First  # Extract 'First' name\n",
    "        last_name = agent_record.Last  # Extract 'Last' name\n",
    "        aid = agent_record.AID  # Extract 'AID'\n",
    "        \n",
    "        emit((first_name, last_name), (\"AID\", aid))"
   ]
  },
  {
   "cell_type": "code",
   "execution_count": null,
   "metadata": {},
   "outputs": [],
   "source": [
    "# Reducer for joining Employee and Agent Tables based on First and Last name\n",
    "def reducer(name, records_list):\n",
    "    \n",
    "    # Separate the records into employee and agent data\n",
    "    employee_data = None\n",
    "    agent_data = None\n",
    "    \n",
    "    for record in records_list:\n",
    "        if record[0] == \"EID\":  # Employee data\n",
    "            employee_data = record\n",
    "        elif record[0] == \"AID\":  # Agent data\n",
    "            agent_data = record\n",
    "    \n",
    "    # If both employee and agent data exist for this name, combine the information\n",
    "    if employee_data and agent_data:\n",
    "        first_name = name[0]\n",
    "        last_name = name[1]\n",
    "        eid = employee_data[1]\n",
    "        aid = agent_data[1]\n",
    "        age = employee_data[2]\n",
    "        \n",
    "        emit(first_name, last_name, eid, aid, age)"
   ]
  }
 ],
 "metadata": {
  "kernelspec": {
   "display_name": "Python 3",
   "language": "python",
   "name": "python3"
  },
  "language_info": {
   "codemirror_mode": {
    "name": "ipython",
    "version": 3
   },
   "file_extension": ".py",
   "mimetype": "text/x-python",
   "name": "python",
   "nbconvert_exporter": "python",
   "pygments_lexer": "ipython3",
   "version": "3.9.11"
  }
 },
 "nbformat": 4,
 "nbformat_minor": 2
}
