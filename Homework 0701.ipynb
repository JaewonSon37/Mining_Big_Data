{
 "cells": [
  {
   "cell_type": "markdown",
   "metadata": {},
   "source": [
    "## Homework 5\n",
    "---"
   ]
  },
  {
   "cell_type": "code",
   "execution_count": 1,
   "metadata": {},
   "outputs": [],
   "source": [
    "import numpy as np"
   ]
  },
  {
   "cell_type": "markdown",
   "metadata": {},
   "source": [
    "---\n",
    "### Part 2.a"
   ]
  },
  {
   "cell_type": "code",
   "execution_count": 2,
   "metadata": {},
   "outputs": [],
   "source": [
    "# Function to computes the PageRank values for a given transition matrix\n",
    "def pagerank(transition_matrix, damping_factor: float = 0.85):\n",
    "\n",
    "    # Get the number of nodes\n",
    "    number_of_nodes = transition_matrix.shape[1]\n",
    "\n",
    "    # Initialize the PageRank vector with equal probability for each node\n",
    "    pagerank_vector = np.ones(number_of_nodes) / number_of_nodes\n",
    "\n",
    "    # Apply the damping factor to the transition matrix\n",
    "    transition_matrix_hat = damping_factor * transition_matrix\n",
    "\n",
    "    # Compute the first iteration of PageRank values\n",
    "    pagerank_value = transition_matrix_hat @ pagerank_vector + (1 - damping_factor) / number_of_nodes\n",
    "    \n",
    "    # Iterate until convergence\n",
    "    while(np.linalg.norm(pagerank_vector - pagerank_value) >= 1e-10):\n",
    "        pagerank_vector = pagerank_value # Update the previous PageRank values\n",
    "        pagerank_value = transition_matrix_hat @ pagerank_vector + (1 - damping_factor) / number_of_nodes # Compute new PageRank values\n",
    "    \n",
    "    return pagerank_value"
   ]
  },
  {
   "cell_type": "code",
   "execution_count": 8,
   "metadata": {},
   "outputs": [],
   "source": [
    "# Define the Transition Probability Matrix\n",
    "transition_matrix = np.array([[0,   1,   0,   1],\n",
    "                              [0,   0,   1/2, 0],\n",
    "                              [1/2, 0,   0,   0],\n",
    "                              [1/2, 0,   1/2, 0]])\n",
    "\n",
    "# Define node names\n",
    "nodes = [\"A\", \"B\", \"X\", \"Y\"]"
   ]
  },
  {
   "cell_type": "code",
   "execution_count": 9,
   "metadata": {},
   "outputs": [],
   "source": [
    "pagerank_values = pagerank(transition_matrix)"
   ]
  },
  {
   "cell_type": "code",
   "execution_count": 10,
   "metadata": {},
   "outputs": [
    {
     "name": "stdout",
     "output_type": "stream",
     "text": [
      "A: 0.386942\n",
      "B: 0.123329\n",
      "X: 0.201950\n",
      "Y: 0.287779\n"
     ]
    }
   ],
   "source": [
    "for node, pagerank_value in zip(nodes, pagerank_values):\n",
    "    print(f\"{node}: {pagerank_value:.6f}\")"
   ]
  },
  {
   "cell_type": "markdown",
   "metadata": {},
   "source": [
    "---\n",
    "### Part 2.b"
   ]
  },
  {
   "cell_type": "code",
   "execution_count": 15,
   "metadata": {},
   "outputs": [],
   "source": [
    "# Define the Transition Probability Matrix\n",
    "transition_matrix = np.array([[0,   1/2, 1/3, 0,   1/5],\n",
    "                              [0,   0,   1/3, 0,   1/5],\n",
    "                              [1,   0,   0,   0,   1/5],\n",
    "                              [0,   1/2, 1/3, 0,   1/5],\n",
    "                              [0,   0,   0,   1,   1/5]])\n",
    "\n",
    "# Define node names\n",
    "nodes = [\"A\", \"X\", \"Y\", \"Q\", \"Z\"]"
   ]
  },
  {
   "cell_type": "code",
   "execution_count": 16,
   "metadata": {},
   "outputs": [],
   "source": [
    "pagerank_values = pagerank(transition_matrix)"
   ]
  },
  {
   "cell_type": "code",
   "execution_count": 17,
   "metadata": {},
   "outputs": [
    {
     "name": "stdout",
     "output_type": "stream",
     "text": [
      "A: 0.195310\n",
      "X: 0.137059\n",
      "Y: 0.236161\n",
      "Q: 0.195310\n",
      "Z: 0.236161\n"
     ]
    }
   ],
   "source": [
    "for node, pagerank_value in zip(nodes, pagerank_values):\n",
    "    print(f\"{node}: {pagerank_value:.6f}\")"
   ]
  },
  {
   "cell_type": "code",
   "execution_count": null,
   "metadata": {},
   "outputs": [],
   "source": []
  }
 ],
 "metadata": {
  "kernelspec": {
   "display_name": "Python 3",
   "language": "python",
   "name": "python3"
  },
  "language_info": {
   "codemirror_mode": {
    "name": "ipython",
    "version": 3
   },
   "file_extension": ".py",
   "mimetype": "text/x-python",
   "name": "python",
   "nbconvert_exporter": "python",
   "pygments_lexer": "ipython3",
   "version": "3.9.11"
  }
 },
 "nbformat": 4,
 "nbformat_minor": 2
}
